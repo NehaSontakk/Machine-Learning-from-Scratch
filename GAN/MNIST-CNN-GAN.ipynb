{
 "cells": [
  {
   "cell_type": "markdown",
   "metadata": {},
   "source": [
    "# CNN and Gans with MNIST"
   ]
  },
  {
   "cell_type": "markdown",
   "metadata": {},
   "source": [
    "## Part-1 : CNN"
   ]
  },
  {
   "cell_type": "code",
   "execution_count": 2,
   "metadata": {},
   "outputs": [],
   "source": [
    "from keras.datasets import mnist\n",
    "import matplotlib.pyplot as plt"
   ]
  },
  {
   "cell_type": "code",
   "execution_count": 8,
   "metadata": {},
   "outputs": [
    {
     "name": "stdout",
     "output_type": "stream",
     "text": [
      "Downloading data from https://s3.amazonaws.com/img-datasets/mnist.npz\n",
      "11493376/11490434 [==============================] - 14s 1us/step\n",
      "11501568/11490434 [==============================] - 14s 1us/step\n"
     ]
    }
   ],
   "source": [
    "(trainx,trainy),(testx,testy)=mnist.load_data()"
   ]
  },
  {
   "cell_type": "code",
   "execution_count": 9,
   "metadata": {},
   "outputs": [
    {
     "name": "stdout",
     "output_type": "stream",
     "text": [
      "(60000, 28, 28) (60000,)\n",
      "(10000, 28, 28) (10000,)\n"
     ]
    }
   ],
   "source": [
    "print trainx.shape,trainy.shape\n",
    "print testx.shape,testy.shape"
   ]
  },
  {
   "cell_type": "code",
   "execution_count": 12,
   "metadata": {},
   "outputs": [
    {
     "data": {
      "image/png": "[encoded data removed]",
      "text/plain": [
       "<Figure size 432x288 with 9 Axes>"
      ]
     },
     "metadata": {
      "needs_background": "light"
     },
     "output_type": "display_data"
    }
   ],
   "source": [
    "%matplotlib inline\n",
    "for i in range(9):\n",
    "    plt.subplot(330+1+i)\n",
    "    plt.imshow(trainx[i])"
   ]
  },
  {
   "cell_type": "markdown",
   "metadata": {},
   "source": [
    "#### Change train data into single channel of 28*28 pixels"
   ]
  },
  {
   "cell_type": "code",
   "execution_count": 13,
   "metadata": {},
   "outputs": [],
   "source": [
    "trainx = trainx.reshape((trainx.shape[0],28,28,1))\n",
    "testx = testx.reshape((testx.shape[0],28,28,1))"
   ]
  },
  {
   "cell_type": "markdown",
   "metadata": {},
   "source": [
    "#### One hot encoding of the y category labels from classes in 1-10"
   ]
  },
  {
   "cell_type": "code",
   "execution_count": 15,
   "metadata": {},
   "outputs": [],
   "source": [
    "from keras.utils import to_categorical\n",
    "trainy = to_categorical(trainy)\n",
    "testy = to_categorical(testy)"
   ]
  },
  {
   "cell_type": "markdown",
   "metadata": {},
   "source": [
    "#### Pixel data in the range of 0-255 normalize it between 0-1"
   ]
  },
  {
   "cell_type": "code",
   "execution_count": 17,
   "metadata": {},
   "outputs": [],
   "source": [
    "#convert to float\n",
    "trainx_norm = trainx.astype('float32')\n",
    "testx_norm =  testx.astype('float32')"
   ]
  },
  {
   "cell_type": "markdown",
   "metadata": {},
   "source": [
    "#### Normalize between 0-1"
   ]
  },
  {
   "cell_type": "code",
   "execution_count": 18,
   "metadata": {},
   "outputs": [],
   "source": [
    "trainx_norm = trainx_norm/255.0\n",
    "testx_norm = testx_norm/255.0"
   ]
  },
  {
   "cell_type": "markdown",
   "metadata": {},
   "source": [
    "#### Feature Extraction (frontend)"
   ]
  },
  {
   "cell_type": "code",
   "execution_count": 22,
   "metadata": {},
   "outputs": [],
   "source": [
    "from keras.models import Sequential\n",
    "model=Sequential()"
   ]
  },
  {
   "cell_type": "code",
   "execution_count": 24,
   "metadata": {},
   "outputs": [],
   "source": [
    "from keras.layers import Conv2D\n",
    "model.add(Conv2D(32,(3,3),activation='relu',kernel_initializer='he_uniform',input_shape=(28,28,1)))"
   ]
  },
  {
   "cell_type": "code",
   "execution_count": 25,
   "metadata": {},
   "outputs": [],
   "source": [
    "from keras.layers import MaxPooling2D\n",
    "model.add(MaxPooling2D((2, 2)))"
   ]
  },
  {
   "cell_type": "code",
   "execution_count": 26,
   "metadata": {},
   "outputs": [],
   "source": [
    "from keras.layers import Flatten\n",
    "model.add(Flatten())"
   ]
  },
  {
   "cell_type": "code",
   "execution_count": 28,
   "metadata": {},
   "outputs": [],
   "source": [
    "from keras.layers import Dense\n",
    "model.add(Dense(100, activation='relu', kernel_initializer='he_uniform'))"
   ]
  },
  {
   "cell_type": "markdown",
   "metadata": {},
   "source": [
    "#### Output layer"
   ]
  },
  {
   "cell_type": "code",
   "execution_count": 29,
   "metadata": {},
   "outputs": [],
   "source": [
    "model.add(Dense(10, activation='softmax'))"
   ]
  },
  {
   "cell_type": "markdown",
   "metadata": {},
   "source": [
    "#### stochastic gradient descent optimizer with a learning rate of 0.01 and a momentum of 0.9"
   ]
  },
  {
   "cell_type": "code",
   "execution_count": 30,
   "metadata": {},
   "outputs": [],
   "source": [
    "from keras.optimizers import SGD\n",
    "opt = SGD(lr=0.01, momentum=0.9)"
   ]
  },
  {
   "cell_type": "code",
   "execution_count": 31,
   "metadata": {},
   "outputs": [],
   "source": [
    "model.compile(optimizer=opt, loss='categorical_crossentropy', metrics=['accuracy'])"
   ]
  },
  {
   "cell_type": "markdown",
   "metadata": {},
   "source": [
    "#### 5 fold cross validation"
   ]
  },
  {
   "cell_type": "code",
   "execution_count": 32,
   "metadata": {},
   "outputs": [],
   "source": [
    "from sklearn.model_selection import KFold\n",
    "kfold = KFold(5, shuffle=True, random_state=1)"
   ]
  },
  {
   "cell_type": "code",
   "execution_count": 35,
   "metadata": {},
   "outputs": [
    {
     "name": "stdout",
     "output_type": "stream",
     "text": [
      "98.73333333333333\n",
      "99.83333333333333\n",
      "99.99166666666667\n",
      "100.0\n",
      "100.0\n",
      "[<keras.callbacks.History object at 0x7f116f480c10>, <keras.callbacks.History object at 0x7f118109e310>, <keras.callbacks.History object at 0x7f116f4809d0>, <keras.callbacks.History object at 0x7f117b12df90>, <keras.callbacks.History object at 0x7f116f480950>] [0.9873333333333333, 0.9983333333333333, 0.9999166666666667, 1.0, 1.0]\n"
     ]
    }
   ],
   "source": [
    "histories = list()\n",
    "scores = list()\n",
    "for train_ix, test_ix in kfold.split(trainx_norm):\n",
    "    trainX, trainY, testX, testY = trainx_norm[train_ix], trainy[train_ix], trainx_norm[test_ix], trainy[test_ix]\n",
    "    history = model.fit(trainX, trainY, epochs=10, batch_size=32, validation_data=(testX, testY), verbose=0)\n",
    "    _, acc = model.evaluate(testX, testY, verbose=0)\n",
    "    print acc*100.0\n",
    "    scores.append(acc)\n",
    "    histories.append(history)\n",
    "print histories,scores"
   ]
  },
  {
   "cell_type": "code",
   "execution_count": 71,
   "metadata": {},
   "outputs": [
    {
     "ename": "ValueError",
     "evalue": "This model has never been called, this its weights have not yet been created, so no summary can be displayed. Build the model first (e.g. by calling it on some test data).",
     "output_type": "error",
     "traceback": [
      "\u001b[0;31m---------------------------------------------------------------------------\u001b[0m",
      "\u001b[0;31mValueError\u001b[0m                                Traceback (most recent call last)",
      "\u001b[0;32m<ipython-input-71-5f15418b3570>\u001b[0m in \u001b[0;36m<module>\u001b[0;34m()\u001b[0m\n\u001b[0;32m----> 1\u001b[0;31m \u001b[0mmodel\u001b[0m\u001b[0;34m.\u001b[0m\u001b[0msummary\u001b[0m\u001b[0;34m(\u001b[0m\u001b[0;34m)\u001b[0m\u001b[0;34m\u001b[0m\u001b[0m\n\u001b[0m",
      "\u001b[0;32m/usr/local/lib/python2.7/dist-packages/keras/engine/network.pyc\u001b[0m in \u001b[0;36msummary\u001b[0;34m(self, line_length, positions, print_fn)\u001b[0m\n\u001b[1;32m   1261\u001b[0m         \u001b[0;32mif\u001b[0m \u001b[0;32mnot\u001b[0m \u001b[0mself\u001b[0m\u001b[0;34m.\u001b[0m\u001b[0mbuilt\u001b[0m\u001b[0;34m:\u001b[0m\u001b[0;34m\u001b[0m\u001b[0m\n\u001b[1;32m   1262\u001b[0m             raise ValueError(\n\u001b[0;32m-> 1263\u001b[0;31m                 \u001b[0;34m'This model has never been called, this its weights '\u001b[0m\u001b[0;34m\u001b[0m\u001b[0m\n\u001b[0m\u001b[1;32m   1264\u001b[0m                 \u001b[0;34m'have not yet been created, so no summary can be displayed. '\u001b[0m\u001b[0;34m\u001b[0m\u001b[0m\n\u001b[1;32m   1265\u001b[0m                 \u001b[0;34m'Build the model first '\u001b[0m\u001b[0;34m\u001b[0m\u001b[0m\n",
      "\u001b[0;31mValueError\u001b[0m: This model has never been called, this its weights have not yet been created, so no summary can be displayed. Build the model first (e.g. by calling it on some test data)."
     ]
    }
   ],
   "source": [
    "model.summary()"
   ]
  },
  {
   "cell_type": "markdown",
   "metadata": {},
   "source": [
    "#### Learning curve diagnostics"
   ]
  },
  {
   "cell_type": "code",
   "execution_count": 54,
   "metadata": {},
   "outputs": [
    {
     "data": {
      "image/png": "[encoded data removed]",
      "text/plain": [
       "<Figure size 432x288 with 2 Axes>"
      ]
     },
     "metadata": {
      "needs_background": "light"
     },
     "output_type": "display_data"
    }
   ],
   "source": [
    "for i in range(len(histories)):\n",
    "    plt.subplot(221)\n",
    "    plt.title('Cross entropy loss')\n",
    "    plt.plot(histories[i].history['loss'],color=\"orange\",label=\"train\")\n",
    "    plt.plot(histories[i].history['val_loss'],color=\"green\",label=\"test\")\n",
    "    \n",
    "    plt.subplot(224)\n",
    "    plt.title('Classification Accuracy')\n",
    "    plt.plot(histories[i].history['acc'], color='blue', label='train')\n",
    "    plt.plot(histories[i].history['val_acc'], color='orange', label='test')\n",
    "plt.show()\n",
    "    "
   ]
  },
  {
   "cell_type": "markdown",
   "metadata": {},
   "source": [
    "#### classification accuracy scores collected during each fold can be summarized by calculating the mean and standard deviation"
   ]
  },
  {
   "cell_type": "code",
   "execution_count": 60,
   "metadata": {
    "scrolled": true
   },
   "outputs": [
    {
     "name": "stdout",
     "output_type": "stream",
     "text": [
      "Accuracy: 99.71166666666666 0.49327702381341865 5\n"
     ]
    },
    {
     "data": {
      "image/png": "[encoded data removed]",
      "text/plain": [
       "<Figure size 432x288 with 1 Axes>"
      ]
     },
     "metadata": {
      "needs_background": "light"
     },
     "output_type": "display_data"
    }
   ],
   "source": [
    "from numpy import mean,std\n",
    "print 'Accuracy:',mean(scores)*100, std(scores)*100, len(scores)\n",
    "plt.boxplot(scores)\n",
    "plt.show()"
   ]
  },
  {
   "cell_type": "markdown",
   "metadata": {},
   "source": [
    "## Part-2 : GAN"
   ]
  },
  {
   "cell_type": "markdown",
   "metadata": {},
   "source": [
    "### Discriminator"
   ]
  },
  {
   "cell_type": "markdown",
   "metadata": {},
   "source": [
    "#### 2 convolutional layers, small kernel size 3, stride of 2"
   ]
  },
  {
   "cell_type": "code",
   "execution_count": 62,
   "metadata": {},
   "outputs": [],
   "source": [
    "gan_model = Sequential()\n",
    "gan_model.add(Conv2D(64, (3,3), strides=(2, 2), padding='same', input_shape=(28,28,1)))"
   ]
  },
  {
   "cell_type": "markdown",
   "metadata": {},
   "source": [
    "#### Best practices are using : LeakyRelU, adam sgd and dropout"
   ]
  },
  {
   "cell_type": "code",
   "execution_count": 65,
   "metadata": {},
   "outputs": [],
   "source": [
    "from keras.layers import Dropout\n",
    "from keras.layers import LeakyReLU\n",
    "gan_model.add(LeakyReLU(alpha=0.2))\n",
    "gan_model.add(Dropout(0.4))\n",
    "gan_model.add(Conv2D(64, (3,3), strides=(2, 2), padding='same'))\n",
    "gan_model.add(LeakyReLU(alpha=0.2))\n",
    "gan_model.add(Dropout(0.4))\n",
    "gan_model.add(Flatten())\n",
    "gan_model.add(Dense(1, activation='sigmoid'))"
   ]
  },
  {
   "cell_type": "code",
   "execution_count": 67,
   "metadata": {},
   "outputs": [],
   "source": [
    "from keras.optimizers import Adam\n",
    "gan_model.compile(loss='binary_crossentropy', optimizer=Adam(lr=0.0002, beta_1=0.5), metrics=['accuracy'])"
   ]
  },
  {
   "cell_type": "code",
   "execution_count": 69,
   "metadata": {},
   "outputs": [
    {
     "name": "stdout",
     "output_type": "stream",
     "text": [
      "_________________________________________________________________\n",
      "Layer (type)                 Output Shape              Param #   \n",
      "=================================================================\n",
      "conv2d_3 (Conv2D)            (None, 14, 14, 64)        640       \n",
      "_________________________________________________________________\n",
      "leaky_re_lu_1 (LeakyReLU)    (None, 14, 14, 64)        0         \n",
      "_________________________________________________________________\n",
      "dropout_1 (Dropout)          (None, 14, 14, 64)        0         \n",
      "_________________________________________________________________\n",
      "conv2d_4 (Conv2D)            (None, 7, 7, 64)          36928     \n",
      "_________________________________________________________________\n",
      "leaky_re_lu_2 (LeakyReLU)    (None, 7, 7, 64)          0         \n",
      "_________________________________________________________________\n",
      "dropout_2 (Dropout)          (None, 7, 7, 64)          0         \n",
      "_________________________________________________________________\n",
      "flatten_2 (Flatten)          (None, 3136)              0         \n",
      "_________________________________________________________________\n",
      "dense_3 (Dense)              (None, 1)                 3137      \n",
      "=================================================================\n",
      "Total params: 40,705\n",
      "Trainable params: 40,705\n",
      "Non-trainable params: 0\n",
      "_________________________________________________________________\n"
     ]
    }
   ],
   "source": [
    "gan_model.summary()"
   ]
  },
  {
   "cell_type": "code",
   "execution_count": 91,
   "metadata": {},
   "outputs": [
    {
     "name": "stdout",
     "output_type": "stream",
     "text": [
      "1 real 35.9375 fake 84.375\n",
      "2 real 26.5625 fake 93.75\n",
      "3 real 29.6875 fake 97.65625\n",
      "4 real 32.8125 fake 100.0\n",
      "5 real 35.9375 fake 100.0\n",
      "6 real 35.15625 fake 100.0\n",
      "7 real 38.28125 fake 100.0\n",
      "8 real 42.1875 fake 100.0\n",
      "9 real 36.71875 fake 100.0\n",
      "10 real 44.53125 fake 100.0\n",
      "11 real 48.4375 fake 100.0\n",
      "12 real 41.40625 fake 100.0\n",
      "13 real 48.4375 fake 100.0\n",
      "14 real 60.9375 fake 100.0\n",
      "15 real 55.46875 fake 100.0\n",
      "16 real 57.03125 fake 100.0\n",
      "17 real 67.96875 fake 100.0\n",
      "18 real 64.0625 fake 100.0\n",
      "19 real 69.53125 fake 100.0\n",
      "20 real 78.125 fake 100.0\n",
      "21 real 73.4375 fake 100.0\n",
      "22 real 84.375 fake 100.0\n",
      "23 real 81.25 fake 100.0\n",
      "24 real 86.71875 fake 100.0\n",
      "25 real 93.75 fake 100.0\n",
      "26 real 95.3125 fake 100.0\n",
      "27 real 94.53125 fake 100.0\n",
      "28 real 92.1875 fake 100.0\n",
      "29 real 98.4375 fake 100.0\n",
      "30 real 96.09375 fake 100.0\n",
      "31 real 99.21875 fake 100.0\n",
      "32 real 97.65625 fake 100.0\n",
      "33 real 98.4375 fake 100.0\n",
      "34 real 100.0 fake 100.0\n",
      "35 real 100.0 fake 100.0\n",
      "36 real 99.21875 fake 100.0\n",
      "37 real 100.0 fake 100.0\n",
      "38 real 100.0 fake 100.0\n",
      "39 real 100.0 fake 100.0\n",
      "40 real 99.21875 fake 100.0\n",
      "41 real 100.0 fake 100.0\n",
      "42 real 100.0 fake 100.0\n",
      "43 real 100.0 fake 100.0\n",
      "44 real 100.0 fake 100.0\n",
      "45 real 100.0 fake 100.0\n",
      "46 real 100.0 fake 100.0\n",
      "47 real 100.0 fake 100.0\n",
      "48 real 100.0 fake 100.0\n",
      "49 real 100.0 fake 100.0\n",
      "50 real 100.0 fake 100.0\n",
      "51 real 100.0 fake 100.0\n",
      "52 real 100.0 fake 100.0\n",
      "53 real 100.0 fake 100.0\n",
      "54 real 100.0 fake 100.0\n",
      "55 real 100.0 fake 100.0\n",
      "56 real 100.0 fake 100.0\n",
      "57 real 100.0 fake 100.0\n",
      "58 real 100.0 fake 100.0\n",
      "59 real 100.0 fake 100.0\n",
      "60 real 100.0 fake 100.0\n",
      "61 real 100.0 fake 100.0\n",
      "62 real 100.0 fake 100.0\n",
      "63 real 100.0 fake 100.0\n",
      "64 real 100.0 fake 100.0\n",
      "65 real 100.0 fake 100.0\n",
      "66 real 100.0 fake 100.0\n",
      "67 real 100.0 fake 100.0\n",
      "68 real 100.0 fake 100.0\n",
      "69 real 100.0 fake 100.0\n",
      "70 real 100.0 fake 100.0\n",
      "71 real 100.0 fake 100.0\n",
      "72 real 100.0 fake 100.0\n",
      "73 real 100.0 fake 100.0\n",
      "74 real 100.0 fake 100.0\n",
      "75 real 100.0 fake 100.0\n",
      "76 real 100.0 fake 100.0\n",
      "77 real 100.0 fake 100.0\n",
      "78 real 100.0 fake 100.0\n",
      "79 real 100.0 fake 100.0\n",
      "80 real 100.0 fake 100.0\n",
      "81 real 100.0 fake 100.0\n",
      "82 real 100.0 fake 100.0\n",
      "83 real 100.0 fake 100.0\n",
      "84 real 100.0 fake 100.0\n",
      "85 real 100.0 fake 100.0\n",
      "86 real 100.0 fake 100.0\n",
      "87 real 100.0 fake 100.0\n",
      "88 real 100.0 fake 100.0\n",
      "89 real 100.0 fake 100.0\n",
      "90 real 100.0 fake 100.0\n",
      "91 real 100.0 fake 100.0\n",
      "92 real 100.0 fake 100.0\n",
      "93 real 100.0 fake 100.0\n",
      "94 real 100.0 fake 100.0\n",
      "95 real 100.0 fake 100.0\n",
      "96 real 100.0 fake 100.0\n",
      "97 real 100.0 fake 100.0\n",
      "98 real 100.0 fake 100.0\n",
      "99 real 100.0 fake 100.0\n",
      "100 real 100.0 fake 100.0\n"
     ]
    }
   ],
   "source": [
    "from numpy.random import randint\n",
    "from numpy import ones\n",
    "from numpy.random import rand\n",
    "from numpy import zeros\n",
    "for i in range(100):\n",
    "    ix = randint(0, trainx_norm.shape[0], 128)\n",
    "    X_real = trainx_norm[ix]\n",
    "    y_real = ones((128, 1))\n",
    "\n",
    "    _, real_acc = gan_model.train_on_batch(X_real, y_real)\n",
    "\n",
    "    X_fake = rand(28 * 28 * 128)\n",
    "    # reshape into a batch of grayscale images\n",
    "    X_fake = X_fake.reshape((128, 28, 28, 1))\n",
    "    # generate 'fake' class labels (0)\n",
    "    y_fake = zeros((128, 1))\n",
    "    _, fake_acc = gan_model.train_on_batch(X_fake, y_fake)\n",
    "    \n",
    "    print i+1,'real',real_acc*100,'fake',fake_acc*100"
   ]
  },
  {
   "cell_type": "code",
   "execution_count": null,
   "metadata": {},
   "outputs": [],
   "source": []
  }
 ],
 "metadata": {
  "kernelspec": {
   "display_name": "Python 3",
   "language": "python",
   "name": "python3"
  },
  "language_info": {
   "codemirror_mode": {
    "name": "ipython",
    "version": 2
   },
   "file_extension": ".py",
   "mimetype": "text/x-python",
   "name": "python",
   "nbconvert_exporter": "python",
   "pygments_lexer": "ipython2",
   "version": "2.7.14"
  }
 },
 "nbformat": 4,
 "nbformat_minor": 2
}
